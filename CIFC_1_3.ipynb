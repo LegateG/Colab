{
  "cells": [
    {
      "cell_type": "markdown",
      "metadata": {
        "id": "view-in-github",
        "colab_type": "text"
      },
      "source": [
        "<a href=\"https://colab.research.google.com/github/LegateG/LegateG/blob/main/CIFC_1_3.ipynb\" target=\"_parent\"><img src=\"https://colab.research.google.com/assets/colab-badge.svg\" alt=\"Open In Colab\"/></a>"
      ]
    },
    {
      "cell_type": "code",
      "execution_count": null,
      "id": "09dcfb1b",
      "metadata": {
        "id": "09dcfb1b",
        "outputId": "120b0ec4-701e-4112-cbff-2f8e4f6837ae",
        "colab": {
          "base_uri": "https://localhost:8080/"
        }
      },
      "outputs": [
        {
          "output_type": "stream",
          "name": "stdout",
          "text": [
            "Requirement already satisfied: polars in /usr/local/lib/python3.10/dist-packages (1.9.0)\n"
          ]
        }
      ],
      "source": [
        "### Install modules\n",
        "!pip install polars"
      ]
    },
    {
      "cell_type": "code",
      "source": [
        "from google.colab import drive\n",
        "drive.mount('/content/drive')"
      ],
      "metadata": {
        "colab": {
          "base_uri": "https://localhost:8080/"
        },
        "id": "_cwSSNfwARr-",
        "outputId": "f12729e1-2151-4fbb-8d78-0dd5c8b8718d"
      },
      "id": "_cwSSNfwARr-",
      "execution_count": null,
      "outputs": [
        {
          "output_type": "stream",
          "name": "stdout",
          "text": [
            "Mounted at /content/drive\n"
          ]
        }
      ]
    },
    {
      "cell_type": "code",
      "execution_count": null,
      "id": "f25ce0c0",
      "metadata": {
        "id": "f25ce0c0"
      },
      "outputs": [],
      "source": [
        "### Import the necessary libraries\n",
        "import polars as pl\n",
        "import numpy as np\n",
        "import seaborn as sns\n",
        "import matplotlib.pyplot as plt\n",
        "%matplotlib inline\n",
        "\n",
        "from sklearn.preprocessing import StandardScaler\n",
        "from sklearn.linear_model import LogisticRegression\n",
        "from sklearn.ensemble import RandomForestClassifier"
      ]
    },
    {
      "cell_type": "code",
      "execution_count": null,
      "id": "204b0050",
      "metadata": {
        "id": "204b0050",
        "outputId": "ba57067f-7798-466f-a560-f98b8282f102",
        "colab": {
          "base_uri": "https://localhost:8080/",
          "height": 605
        }
      },
      "outputs": [
        {
          "output_type": "execute_result",
          "data": {
            "text/plain": [
              "shape: (10, 12)\n",
              "┌───────────┬───────────┬───────────┬───────────┬───┬───────────┬───────────┬───────────┬──────────┐\n",
              "│ field_age ┆ field_age ┆ field_age ┆ field_sit ┆ … ┆ field_fir ┆ field_lat ┆ field_lon ┆ full_cou │\n",
              "│ ncy_fire_ ┆ ncy_code  ┆ ncy_data_ ┆ uation_re ┆   ┆ e_size    ┆ itude     ┆ gitude    ┆ nt       │\n",
              "│ id        ┆ ---       ┆ timezone  ┆ port_date ┆   ┆ ---       ┆ ---       ┆ ---       ┆ ---      │\n",
              "│ ---       ┆ str       ┆ ---       ┆ ---       ┆   ┆ f64       ┆ f64       ┆ f64       ┆ i64      │\n",
              "│ str       ┆           ┆ str       ┆ str       ┆   ┆           ┆           ┆           ┆          │\n",
              "╞═══════════╪═══════════╪═══════════╪═══════════╪═══╪═══════════╪═══════════╪═══════════╪══════════╡\n",
              "│ 04-003-20 ┆ ns        ┆ ADT       ┆ 2023-04-0 ┆ … ┆ 2.68      ┆ 43.740776 ┆ -65.82685 ┆ 4248     │\n",
              "│ 23        ┆           ┆           ┆ 1T06:00:0 ┆   ┆           ┆           ┆ 1         ┆          │\n",
              "│           ┆           ┆           ┆ 0.000Z    ┆   ┆           ┆           ┆           ┆          │\n",
              "│ 01-001-20 ┆ ns        ┆ ADT       ┆ 2023-04-0 ┆ … ┆ 0.02      ┆ 44.491333 ┆ -64.31012 ┆ 4248     │\n",
              "│ 23        ┆           ┆           ┆ 4T06:00:0 ┆   ┆           ┆           ┆ 7         ┆          │\n",
              "│           ┆           ┆           ┆ 0.000Z    ┆   ┆           ┆           ┆           ┆          │\n",
              "│ HWF-002-2 ┆ ab        ┆ MDT       ┆ 2023-03-3 ┆ … ┆ 0.1       ┆ 58.522083 ┆ -115.1668 ┆ 4248     │\n",
              "│ 023       ┆           ┆           ┆ 0T20:05:0 ┆   ┆           ┆           ┆ 83        ┆          │\n",
              "│           ┆           ┆           ┆ 0.000Z    ┆   ┆           ┆           ┆           ┆          │\n",
              "│ 09-001-20 ┆ ns        ┆ ADT       ┆ 2023-03-2 ┆ … ┆ 57.32     ┆ 45.015392 ┆ -63.21425 ┆ 4248     │\n",
              "│ 23        ┆           ┆           ┆ 2T23:00:0 ┆   ┆           ┆           ┆ 2         ┆          │\n",
              "│           ┆           ┆           ┆ 0.000Z    ┆   ┆           ┆           ┆           ┆          │\n",
              "│ 04-001-20 ┆ ns        ┆ ADT       ┆ 2023-03-2 ┆ … ┆ 13.39     ┆ 43.807041 ┆ -65.86865 ┆ 4248     │\n",
              "│ 23        ┆           ┆           ┆ 2T21:00:0 ┆   ┆           ┆           ┆ 2         ┆          │\n",
              "│           ┆           ┆           ┆ 0.000Z    ┆   ┆           ┆           ┆           ┆          │\n",
              "│ 09-002-20 ┆ ns        ┆ ADT       ┆ 2023-03-2 ┆ … ┆ 0.14      ┆ 44.78252  ┆ -63.10366 ┆ 4248     │\n",
              "│ 23        ┆           ┆           ┆ 2T21:00:0 ┆   ┆           ┆           ┆ 1         ┆          │\n",
              "│           ┆           ┆           ┆ 0.000Z    ┆   ┆           ┆           ┆           ┆          │\n",
              "│ 04-002-20 ┆ ns        ┆ ADT       ┆ 2023-03-2 ┆ … ┆ 0.88      ┆ 43.866386 ┆ -66.06042 ┆ 4248     │\n",
              "│ 23        ┆           ┆           ┆ 2T07:00:0 ┆   ┆           ┆           ┆ 5         ┆          │\n",
              "│           ┆           ┆           ┆ 0.000Z    ┆   ┆           ┆           ┆           ┆          │\n",
              "│ 2023PP1   ┆ pc        ┆ EST       ┆ 2023-02-2 ┆ … ┆ 0.0       ┆ 41.9352   ┆ -82.5175  ┆ 4248     │\n",
              "│           ┆           ┆           ┆ 5T16:40:1 ┆   ┆           ┆           ┆           ┆          │\n",
              "│           ┆           ┆           ┆ 1.000Z    ┆   ┆           ┆           ┆           ┆          │\n",
              "│ 559       ┆ qc        ┆ EDT       ┆ 2003-07-0 ┆ … ┆ 5835.5    ┆ 54.6678   ┆ -73.1356  ┆ 4248     │\n",
              "│           ┆           ┆           ┆ 1T20:30:0 ┆   ┆           ┆           ┆           ┆          │\n",
              "│           ┆           ┆           ┆ 0.000Z    ┆   ┆           ┆           ┆           ┆          │\n",
              "│ 223       ┆ qc        ┆ EDT       ┆ 2000-01-0 ┆ … ┆ 0.0       ┆ 47.3875   ┆ -73.1494  ┆ 4248     │\n",
              "│           ┆           ┆           ┆ 1T05:00:0 ┆   ┆           ┆           ┆           ┆          │\n",
              "│           ┆           ┆           ┆ 0.000Z    ┆   ┆           ┆           ┆           ┆          │\n",
              "└───────────┴───────────┴───────────┴───────────┴───┴───────────┴───────────┴───────────┴──────────┘"
            ],
            "text/html": [
              "<div><style>\n",
              ".dataframe > thead > tr,\n",
              ".dataframe > tbody > tr {\n",
              "  text-align: right;\n",
              "  white-space: pre-wrap;\n",
              "}\n",
              "</style>\n",
              "<small>shape: (10, 12)</small><table border=\"1\" class=\"dataframe\"><thead><tr><th>field_agency_fire_id</th><th>field_agency_code</th><th>field_agency_data_timezone</th><th>field_situation_report_date</th><th>field_status_date</th><th>field_stage_of_control_status</th><th>field_system_fire_cause</th><th>field_response_type</th><th>field_fire_size</th><th>field_latitude</th><th>field_longitude</th><th>full_count</th></tr><tr><td>str</td><td>str</td><td>str</td><td>str</td><td>str</td><td>str</td><td>str</td><td>str</td><td>f64</td><td>f64</td><td>f64</td><td>i64</td></tr></thead><tbody><tr><td>&quot;04-003-2023&quot;</td><td>&quot;ns&quot;</td><td>&quot;ADT&quot;</td><td>&quot;2023-04-01T06:00:00.000Z&quot;</td><td>&quot;2023-04-05T06:00:00.000Z&quot;</td><td>&quot;OUT&quot;</td><td>&quot;N&quot;</td><td>&quot;FUL&quot;</td><td>2.68</td><td>43.740776</td><td>-65.826851</td><td>4248</td></tr><tr><td>&quot;01-001-2023&quot;</td><td>&quot;ns&quot;</td><td>&quot;ADT&quot;</td><td>&quot;2023-04-04T06:00:00.000Z&quot;</td><td>&quot;2023-04-04T06:00:00.000Z&quot;</td><td>&quot;OUT&quot;</td><td>&quot;N&quot;</td><td>&quot;FUL&quot;</td><td>0.02</td><td>44.491333</td><td>-64.310127</td><td>4248</td></tr><tr><td>&quot;HWF-002-2023&quot;</td><td>&quot;ab&quot;</td><td>&quot;MDT&quot;</td><td>&quot;2023-03-30T20:05:00.000Z&quot;</td><td>&quot;2023-03-30T14:05:00.000Z&quot;</td><td>&quot;UC&quot;</td><td>&quot;H&quot;</td><td>&quot;FUL&quot;</td><td>0.1</td><td>58.522083</td><td>-115.166883</td><td>4248</td></tr><tr><td>&quot;09-001-2023&quot;</td><td>&quot;ns&quot;</td><td>&quot;ADT&quot;</td><td>&quot;2023-03-22T23:00:00.000Z&quot;</td><td>&quot;2023-03-24T00:00:00.000Z&quot;</td><td>&quot;OUT&quot;</td><td>&quot;N&quot;</td><td>&quot;FUL&quot;</td><td>57.32</td><td>45.015392</td><td>-63.214252</td><td>4248</td></tr><tr><td>&quot;04-001-2023&quot;</td><td>&quot;ns&quot;</td><td>&quot;ADT&quot;</td><td>&quot;2023-03-22T21:00:00.000Z&quot;</td><td>&quot;2023-03-23T02:00:00.000Z&quot;</td><td>&quot;OUT&quot;</td><td>&quot;N&quot;</td><td>&quot;FUL&quot;</td><td>13.39</td><td>43.807041</td><td>-65.868652</td><td>4248</td></tr><tr><td>&quot;09-002-2023&quot;</td><td>&quot;ns&quot;</td><td>&quot;ADT&quot;</td><td>&quot;2023-03-22T21:00:00.000Z&quot;</td><td>&quot;2023-03-23T00:00:00.000Z&quot;</td><td>&quot;OUT&quot;</td><td>&quot;N&quot;</td><td>&quot;FUL&quot;</td><td>0.14</td><td>44.78252</td><td>-63.103661</td><td>4248</td></tr><tr><td>&quot;04-002-2023&quot;</td><td>&quot;ns&quot;</td><td>&quot;ADT&quot;</td><td>&quot;2023-03-22T07:00:00.000Z&quot;</td><td>&quot;2023-03-23T00:00:00.000Z&quot;</td><td>&quot;OUT&quot;</td><td>&quot;N&quot;</td><td>&quot;FUL&quot;</td><td>0.88</td><td>43.866386</td><td>-66.060425</td><td>4248</td></tr><tr><td>&quot;2023PP1&quot;</td><td>&quot;pc&quot;</td><td>&quot;EST&quot;</td><td>&quot;2023-02-25T16:40:11.000Z&quot;</td><td>&quot;2023-02-25T05:00:00.000Z&quot;</td><td>&quot;OUT&quot;</td><td>&quot;H&quot;</td><td>&quot;FUL&quot;</td><td>0.0</td><td>41.9352</td><td>-82.5175</td><td>4248</td></tr><tr><td>&quot;559&quot;</td><td>&quot;qc&quot;</td><td>&quot;EDT&quot;</td><td>&quot;2003-07-01T20:30:00.000Z&quot;</td><td>&quot;2003-07-01T20:30:00.000Z&quot;</td><td>&quot;OC&quot;</td><td>&quot;N&quot;</td><td>&quot;MON&quot;</td><td>5835.5</td><td>54.6678</td><td>-73.1356</td><td>4248</td></tr><tr><td>&quot;223&quot;</td><td>&quot;qc&quot;</td><td>&quot;EDT&quot;</td><td>&quot;2000-01-01T05:00:00.000Z&quot;</td><td>&quot;2000-01-01T05:00:00.000Z&quot;</td><td>&quot;UC&quot;</td><td>&quot;U&quot;</td><td>&quot;FUL&quot;</td><td>0.0</td><td>47.3875</td><td>-73.1494</td><td>4248</td></tr></tbody></table></div>"
            ]
          },
          "metadata": {},
          "execution_count": 5
        }
      ],
      "source": [
        "fire = pl.read_csv(\"/content/drive/MyDrive/Project/Wildfires in Canada - Predictive Analysis/CIFFC/DailyCSV/0718.csv\")\n",
        "fire.tail(10)"
      ]
    },
    {
      "cell_type": "code",
      "execution_count": null,
      "id": "04d4ffac",
      "metadata": {
        "id": "04d4ffac",
        "outputId": "60e94da8-9fe5-464e-fea3-55ab804a749c",
        "colab": {
          "base_uri": "https://localhost:8080/"
        }
      },
      "outputs": [
        {
          "output_type": "execute_result",
          "data": {
            "text/plain": [
              "(4248, 12)"
            ]
          },
          "metadata": {},
          "execution_count": 6
        }
      ],
      "source": [
        "### Find the size of the `fire` dataframe.\n",
        "fire.shape"
      ]
    },
    {
      "cell_type": "code",
      "execution_count": null,
      "id": "72a0d52b",
      "metadata": {
        "scrolled": true,
        "id": "72a0d52b",
        "outputId": "8d21c381-150f-4fdb-e621-ffe71ffe5917",
        "colab": {
          "base_uri": "https://localhost:8080/"
        }
      },
      "outputs": [
        {
          "output_type": "execute_result",
          "data": {
            "text/plain": [
              "[String,\n",
              " String,\n",
              " String,\n",
              " String,\n",
              " String,\n",
              " String,\n",
              " String,\n",
              " String,\n",
              " Float64,\n",
              " Float64,\n",
              " Float64,\n",
              " Int64]"
            ]
          },
          "metadata": {},
          "execution_count": 7
        }
      ],
      "source": [
        "### Display the data types of all the variables in the data set.\n",
        "fire.dtypes"
      ]
    },
    {
      "cell_type": "code",
      "source": [
        "bbn"
      ],
      "metadata": {
        "id": "qa22hxXNmwXW"
      },
      "id": "qa22hxXNmwXW",
      "execution_count": null,
      "outputs": []
    },
    {
      "cell_type": "code",
      "source": [
        "### Data cleaning & prep: Drop the last column and rename all of them\n",
        "fire = fire.drop(\"field_agency_fire_id\",\"field_agency_data_timezone\",\"field_status_date\",\"full_count\")\n"
      ],
      "metadata": {
        "id": "ANmqwGRHrtcL"
      },
      "id": "ANmqwGRHrtcL",
      "execution_count": null,
      "outputs": []
    },
    {
      "cell_type": "code",
      "source": [
        "#\"field_agency_fire_id\": \"id\",\n",
        "#\"field_agency_data_timezone\": \"tz\",\n",
        "#\"field_status_date\": \"status_date\",\n",
        "fire = fire.rename({\n",
        "    \"field_agency_code\": \"agency_loc\",\n",
        "    \"field_situation_report_date\": \"rep_date\",\n",
        "    \"field_stage_of_control_status\": \"stage\",\n",
        "    \"field_system_fire_cause\": \"cause\",\n",
        "    \"field_response_type\": \"response\",\n",
        "    \"field_fire_size\": \"size\",\n",
        "    \"field_latitude\": \"lat\",\n",
        "    \"field_longitude\": \"lon\"\n",
        "})"
      ],
      "metadata": {
        "id": "ITjm3NECtxtE"
      },
      "id": "ITjm3NECtxtE",
      "execution_count": null,
      "outputs": []
    },
    {
      "cell_type": "code",
      "source": [
        "available_columns = fire.columns\n",
        "print(available_columns)"
      ],
      "metadata": {
        "colab": {
          "base_uri": "https://localhost:8080/"
        },
        "id": "SxGLmhFf_eoB",
        "outputId": "d291edba-ac4a-4f5d-d225-b43c45aa9db9"
      },
      "id": "SxGLmhFf_eoB",
      "execution_count": null,
      "outputs": [
        {
          "output_type": "stream",
          "name": "stdout",
          "text": [
            "['agency_loc', 'rep_date', 'stage', 'cause', 'response', 'size', 'lat', 'lon']\n"
          ]
        }
      ]
    },
    {
      "cell_type": "code",
      "execution_count": null,
      "id": "042060c9",
      "metadata": {
        "id": "042060c9",
        "colab": {
          "base_uri": "https://localhost:8080/",
          "height": 585
        },
        "outputId": "7a96d55a-43f1-4e47-cad2-ae47da299daf"
      },
      "outputs": [
        {
          "output_type": "execute_result",
          "data": {
            "text/plain": [
              "shape: (10, 8)\n",
              "┌────────────┬─────────────────────┬───────┬───────┬──────────┬────────┬───────────┬─────────────┐\n",
              "│ agency_loc ┆ rep_date            ┆ stage ┆ cause ┆ response ┆ size   ┆ lat       ┆ lon         │\n",
              "│ ---        ┆ ---                 ┆ ---   ┆ ---   ┆ ---      ┆ ---    ┆ ---       ┆ ---         │\n",
              "│ str        ┆ datetime[μs]        ┆ str   ┆ str   ┆ str      ┆ f64    ┆ f64       ┆ f64         │\n",
              "╞════════════╪═════════════════════╪═══════╪═══════╪══════════╪════════╪═══════════╪═════════════╡\n",
              "│ ns         ┆ 2023-04-01 06:00:00 ┆ OUT   ┆ N     ┆ FUL      ┆ 2.68   ┆ 43.740776 ┆ -65.826851  │\n",
              "│ ns         ┆ 2023-04-04 06:00:00 ┆ OUT   ┆ N     ┆ FUL      ┆ 0.02   ┆ 44.491333 ┆ -64.310127  │\n",
              "│ ab         ┆ 2023-03-30 20:05:00 ┆ UC    ┆ H     ┆ FUL      ┆ 0.1    ┆ 58.522083 ┆ -115.166883 │\n",
              "│ ns         ┆ 2023-03-22 23:00:00 ┆ OUT   ┆ N     ┆ FUL      ┆ 57.32  ┆ 45.015392 ┆ -63.214252  │\n",
              "│ …          ┆ …                   ┆ …     ┆ …     ┆ …        ┆ …      ┆ …         ┆ …           │\n",
              "│ ns         ┆ 2023-03-22 07:00:00 ┆ OUT   ┆ N     ┆ FUL      ┆ 0.88   ┆ 43.866386 ┆ -66.060425  │\n",
              "│ pc         ┆ 2023-02-25 16:40:11 ┆ OUT   ┆ H     ┆ FUL      ┆ 0.0    ┆ 41.9352   ┆ -82.5175    │\n",
              "│ qc         ┆ 2003-07-01 20:30:00 ┆ OC    ┆ N     ┆ MON      ┆ 5835.5 ┆ 54.6678   ┆ -73.1356    │\n",
              "│ qc         ┆ 2000-01-01 05:00:00 ┆ UC    ┆ U     ┆ FUL      ┆ 0.0    ┆ 47.3875   ┆ -73.1494    │\n",
              "└────────────┴─────────────────────┴───────┴───────┴──────────┴────────┴───────────┴─────────────┘"
            ],
            "text/html": [
              "<div><style>\n",
              ".dataframe > thead > tr,\n",
              ".dataframe > tbody > tr {\n",
              "  text-align: right;\n",
              "  white-space: pre-wrap;\n",
              "}\n",
              "</style>\n",
              "<small>shape: (10, 8)</small><table border=\"1\" class=\"dataframe\"><thead><tr><th>agency_loc</th><th>rep_date</th><th>stage</th><th>cause</th><th>response</th><th>size</th><th>lat</th><th>lon</th></tr><tr><td>str</td><td>datetime[μs]</td><td>str</td><td>str</td><td>str</td><td>f64</td><td>f64</td><td>f64</td></tr></thead><tbody><tr><td>&quot;ns&quot;</td><td>2023-04-01 06:00:00</td><td>&quot;OUT&quot;</td><td>&quot;N&quot;</td><td>&quot;FUL&quot;</td><td>2.68</td><td>43.740776</td><td>-65.826851</td></tr><tr><td>&quot;ns&quot;</td><td>2023-04-04 06:00:00</td><td>&quot;OUT&quot;</td><td>&quot;N&quot;</td><td>&quot;FUL&quot;</td><td>0.02</td><td>44.491333</td><td>-64.310127</td></tr><tr><td>&quot;ab&quot;</td><td>2023-03-30 20:05:00</td><td>&quot;UC&quot;</td><td>&quot;H&quot;</td><td>&quot;FUL&quot;</td><td>0.1</td><td>58.522083</td><td>-115.166883</td></tr><tr><td>&quot;ns&quot;</td><td>2023-03-22 23:00:00</td><td>&quot;OUT&quot;</td><td>&quot;N&quot;</td><td>&quot;FUL&quot;</td><td>57.32</td><td>45.015392</td><td>-63.214252</td></tr><tr><td>&quot;ns&quot;</td><td>2023-03-22 21:00:00</td><td>&quot;OUT&quot;</td><td>&quot;N&quot;</td><td>&quot;FUL&quot;</td><td>13.39</td><td>43.807041</td><td>-65.868652</td></tr><tr><td>&quot;ns&quot;</td><td>2023-03-22 21:00:00</td><td>&quot;OUT&quot;</td><td>&quot;N&quot;</td><td>&quot;FUL&quot;</td><td>0.14</td><td>44.78252</td><td>-63.103661</td></tr><tr><td>&quot;ns&quot;</td><td>2023-03-22 07:00:00</td><td>&quot;OUT&quot;</td><td>&quot;N&quot;</td><td>&quot;FUL&quot;</td><td>0.88</td><td>43.866386</td><td>-66.060425</td></tr><tr><td>&quot;pc&quot;</td><td>2023-02-25 16:40:11</td><td>&quot;OUT&quot;</td><td>&quot;H&quot;</td><td>&quot;FUL&quot;</td><td>0.0</td><td>41.9352</td><td>-82.5175</td></tr><tr><td>&quot;qc&quot;</td><td>2003-07-01 20:30:00</td><td>&quot;OC&quot;</td><td>&quot;N&quot;</td><td>&quot;MON&quot;</td><td>5835.5</td><td>54.6678</td><td>-73.1356</td></tr><tr><td>&quot;qc&quot;</td><td>2000-01-01 05:00:00</td><td>&quot;UC&quot;</td><td>&quot;U&quot;</td><td>&quot;FUL&quot;</td><td>0.0</td><td>47.3875</td><td>-73.1494</td></tr></tbody></table></div>"
            ]
          },
          "metadata": {},
          "execution_count": 10
        }
      ],
      "source": [
        "### Data cleaning & prep: Adjust the data types\n",
        "fire = fire.with_columns([\n",
        "    pl.col(\"rep_date\").cast(pl.Datetime)\n",
        "])\n",
        "fire.tail(10)"
      ]
    },
    {
      "cell_type": "code",
      "execution_count": null,
      "id": "97748cba",
      "metadata": {
        "id": "97748cba",
        "outputId": "ab0502b4-a6fe-4f70-b64c-471abda4a60b",
        "colab": {
          "base_uri": "https://localhost:8080/",
          "height": 129
        }
      },
      "outputs": [
        {
          "output_type": "execute_result",
          "data": {
            "text/plain": [
              "shape: (1, 8)\n",
              "┌────────────┬──────────┬───────┬───────┬──────────┬──────┬─────┬─────┐\n",
              "│ agency_loc ┆ rep_date ┆ stage ┆ cause ┆ response ┆ size ┆ lat ┆ lon │\n",
              "│ ---        ┆ ---      ┆ ---   ┆ ---   ┆ ---      ┆ ---  ┆ --- ┆ --- │\n",
              "│ u32        ┆ u32      ┆ u32   ┆ u32   ┆ u32      ┆ u32  ┆ u32 ┆ u32 │\n",
              "╞════════════╪══════════╪═══════╪═══════╪══════════╪══════╪═════╪═════╡\n",
              "│ 0          ┆ 0        ┆ 0     ┆ 0     ┆ 0        ┆ 0    ┆ 0   ┆ 0   │\n",
              "└────────────┴──────────┴───────┴───────┴──────────┴──────┴─────┴─────┘"
            ],
            "text/html": [
              "<div><style>\n",
              ".dataframe > thead > tr,\n",
              ".dataframe > tbody > tr {\n",
              "  text-align: right;\n",
              "  white-space: pre-wrap;\n",
              "}\n",
              "</style>\n",
              "<small>shape: (1, 8)</small><table border=\"1\" class=\"dataframe\"><thead><tr><th>agency_loc</th><th>rep_date</th><th>stage</th><th>cause</th><th>response</th><th>size</th><th>lat</th><th>lon</th></tr><tr><td>u32</td><td>u32</td><td>u32</td><td>u32</td><td>u32</td><td>u32</td><td>u32</td><td>u32</td></tr></thead><tbody><tr><td>0</td><td>0</td><td>0</td><td>0</td><td>0</td><td>0</td><td>0</td><td>0</td></tr></tbody></table></div>"
            ]
          },
          "metadata": {},
          "execution_count": 11
        }
      ],
      "source": [
        "### Are there any missing values in the `fire` dataframe?\n",
        "fire.null_count()"
      ]
    },
    {
      "cell_type": "code",
      "execution_count": null,
      "id": "85f31a93",
      "metadata": {
        "id": "85f31a93",
        "outputId": "557c3764-e3b0-4e6f-8e5c-6410ffb55eb2",
        "colab": {
          "base_uri": "https://localhost:8080/",
          "height": 435
        }
      },
      "outputs": [
        {
          "output_type": "execute_result",
          "data": {
            "text/plain": [
              "shape: (9, 9)\n",
              "┌────────────┬────────────┬────────────┬───────┬───┬──────────┬────────────┬───────────┬───────────┐\n",
              "│ describe   ┆ agency_loc ┆ rep_date   ┆ stage ┆ … ┆ response ┆ size       ┆ lat       ┆ lon       │\n",
              "│ ---        ┆ ---        ┆ ---        ┆ ---   ┆   ┆ ---      ┆ ---        ┆ ---       ┆ ---       │\n",
              "│ str        ┆ str        ┆ str        ┆ str   ┆   ┆ str      ┆ f64        ┆ f64       ┆ f64       │\n",
              "╞════════════╪════════════╪════════════╪═══════╪═══╪══════════╪════════════╪═══════════╪═══════════╡\n",
              "│ count      ┆ 4248       ┆ 4248       ┆ 4248  ┆ … ┆ 4248     ┆ 4248.0     ┆ 4248.0    ┆ 4248.0    │\n",
              "│ null_count ┆ 0          ┆ 0          ┆ 0     ┆ … ┆ 0        ┆ 0.0        ┆ 0.0       ┆ 0.0       │\n",
              "│ mean       ┆ null       ┆ null       ┆ null  ┆ … ┆ null     ┆ 2581.70536 ┆ 52.347462 ┆ -101.0459 │\n",
              "│            ┆            ┆            ┆       ┆   ┆          ┆ 7          ┆           ┆ 09        │\n",
              "│ std        ┆ null       ┆ null       ┆ null  ┆ … ┆ null     ┆ 26167.7154 ┆ 4.398144  ┆ 22.407527 │\n",
              "│            ┆            ┆            ┆       ┆   ┆          ┆ 72         ┆           ┆           │\n",
              "│ min        ┆ ab         ┆ 2000-01-01 ┆ BH    ┆ … ┆ FUL      ┆ -0.1       ┆ 41.9352   ┆ -140.6897 │\n",
              "│            ┆            ┆ 05:00:00   ┆       ┆   ┆          ┆            ┆           ┆ 7         │\n",
              "│ 25%        ┆ null       ┆ null       ┆ null  ┆ … ┆ null     ┆ 0.05       ┆ 49.196417 ┆ -120.1453 │\n",
              "│            ┆            ┆            ┆       ┆   ┆          ┆            ┆           ┆ 67        │\n",
              "│ 50%        ┆ null       ┆ null       ┆ null  ┆ … ┆ null     ┆ 0.3        ┆ 52.392    ┆ -110.7309 │\n",
              "│            ┆            ┆            ┆       ┆   ┆          ┆            ┆           ┆ 33        │\n",
              "│ 75%        ┆ null       ┆ null       ┆ null  ┆ … ┆ null     ┆ 7.0        ┆ 55.241689 ┆ -77.6772  │\n",
              "│ max        ┆ yt         ┆ 2023-07-19 ┆ UC    ┆ … ┆ MON      ┆ 1041760.4  ┆ 69.571633 ┆ -52.7772  │\n",
              "│            ┆            ┆ 02:47:00   ┆       ┆   ┆          ┆            ┆           ┆           │\n",
              "└────────────┴────────────┴────────────┴───────┴───┴──────────┴────────────┴───────────┴───────────┘"
            ],
            "text/html": [
              "<div><style>\n",
              ".dataframe > thead > tr,\n",
              ".dataframe > tbody > tr {\n",
              "  text-align: right;\n",
              "  white-space: pre-wrap;\n",
              "}\n",
              "</style>\n",
              "<small>shape: (9, 9)</small><table border=\"1\" class=\"dataframe\"><thead><tr><th>describe</th><th>agency_loc</th><th>rep_date</th><th>stage</th><th>cause</th><th>response</th><th>size</th><th>lat</th><th>lon</th></tr><tr><td>str</td><td>str</td><td>str</td><td>str</td><td>str</td><td>str</td><td>f64</td><td>f64</td><td>f64</td></tr></thead><tbody><tr><td>&quot;count&quot;</td><td>&quot;4248&quot;</td><td>&quot;4248&quot;</td><td>&quot;4248&quot;</td><td>&quot;4248&quot;</td><td>&quot;4248&quot;</td><td>4248.0</td><td>4248.0</td><td>4248.0</td></tr><tr><td>&quot;null_count&quot;</td><td>&quot;0&quot;</td><td>&quot;0&quot;</td><td>&quot;0&quot;</td><td>&quot;0&quot;</td><td>&quot;0&quot;</td><td>0.0</td><td>0.0</td><td>0.0</td></tr><tr><td>&quot;mean&quot;</td><td>null</td><td>null</td><td>null</td><td>null</td><td>null</td><td>2581.705367</td><td>52.347462</td><td>-101.045909</td></tr><tr><td>&quot;std&quot;</td><td>null</td><td>null</td><td>null</td><td>null</td><td>null</td><td>26167.715472</td><td>4.398144</td><td>22.407527</td></tr><tr><td>&quot;min&quot;</td><td>&quot;ab&quot;</td><td>&quot;2000-01-01 05:…</td><td>&quot;BH&quot;</td><td>&quot;H&quot;</td><td>&quot;FUL&quot;</td><td>-0.1</td><td>41.9352</td><td>-140.68977</td></tr><tr><td>&quot;25%&quot;</td><td>null</td><td>null</td><td>null</td><td>null</td><td>null</td><td>0.05</td><td>49.196417</td><td>-120.145367</td></tr><tr><td>&quot;50%&quot;</td><td>null</td><td>null</td><td>null</td><td>null</td><td>null</td><td>0.3</td><td>52.392</td><td>-110.730933</td></tr><tr><td>&quot;75%&quot;</td><td>null</td><td>null</td><td>null</td><td>null</td><td>null</td><td>7.0</td><td>55.241689</td><td>-77.6772</td></tr><tr><td>&quot;max&quot;</td><td>&quot;yt&quot;</td><td>&quot;2023-07-19 02:…</td><td>&quot;UC&quot;</td><td>&quot;U&quot;</td><td>&quot;MON&quot;</td><td>1041760.4</td><td>69.571633</td><td>-52.7772</td></tr></tbody></table></div>"
            ]
          },
          "metadata": {},
          "execution_count": 12
        }
      ],
      "source": [
        "### Find the summary statistics for all variables except for 'ctrl_stage' (outcome) variable.\n",
        "fire.select([\n",
        "    pl.all().exclude(\"ctrl_stage\")\n",
        "]).describe()"
      ]
    },
    {
      "cell_type": "code",
      "execution_count": null,
      "id": "ad10ef8c",
      "metadata": {
        "id": "ad10ef8c",
        "colab": {
          "base_uri": "https://localhost:8080/",
          "height": 523
        },
        "outputId": "9035ac26-478d-4832-ea10-685c93f0f682"
      },
      "outputs": [
        {
          "output_type": "execute_result",
          "data": {
            "text/plain": [
              "<seaborn.axisgrid.FacetGrid at 0x7c0b920c9b10>"
            ]
          },
          "metadata": {},
          "execution_count": 13
        },
        {
          "output_type": "display_data",
          "data": {
            "text/plain": [
              "<Figure size 500x500 with 1 Axes>"
            ],
            "image/png": "[encoded data removed]"
          },
          "metadata": {}
        }
      ],
      "source": [
        "### Plot the distribution plot for the variable `'size'`.\n",
        "sns.displot(fire['size'], kind='kde')"
      ]
    },
    {
      "cell_type": "code",
      "execution_count": null,
      "id": "cd96574b",
      "metadata": {
        "id": "cd96574b",
        "colab": {
          "base_uri": "https://localhost:8080/",
          "height": 439
        },
        "outputId": "08746bf2-0285-4428-9dc2-ab01c961a451"
      },
      "outputs": [
        {
          "output_type": "stream",
          "name": "stderr",
          "text": [
            "<ipython-input-23-58f0f30a1f2d>:11: DeprecationWarning: `apply` is deprecated. It has been renamed to `map_elements`.\n",
            "  fire = fire.select(pl.all(), pl.col(col).apply(encode_onehot_udf, name=f\"{col}_encoded\"))\n"
          ]
        },
        {
          "output_type": "error",
          "ename": "TypeError",
          "evalue": "Expr.apply() got an unexpected keyword argument 'name'",
          "traceback": [
            "\u001b[0;31m---------------------------------------------------------------------------\u001b[0m",
            "\u001b[0;31mTypeError\u001b[0m                                 Traceback (most recent call last)",
            "\u001b[0;32m<ipython-input-23-58f0f30a1f2d>\u001b[0m in \u001b[0;36m<cell line: 3>\u001b[0;34m()\u001b[0m\n\u001b[1;32m      9\u001b[0m         \u001b[0;32mreturn\u001b[0m \u001b[0mencoded_categories\u001b[0m\u001b[0;34m.\u001b[0m\u001b[0miloc\u001b[0m\u001b[0;34m[\u001b[0m\u001b[0mnp\u001b[0m\u001b[0;34m.\u001b[0m\u001b[0msearchsorted\u001b[0m\u001b[0;34m(\u001b[0m\u001b[0mcategory_unique\u001b[0m\u001b[0;34m,\u001b[0m \u001b[0mseries\u001b[0m\u001b[0;34m)\u001b[0m\u001b[0;34m]\u001b[0m\u001b[0;34m\u001b[0m\u001b[0;34m\u001b[0m\u001b[0m\n\u001b[1;32m     10\u001b[0m \u001b[0;34m\u001b[0m\u001b[0m\n\u001b[0;32m---> 11\u001b[0;31m     \u001b[0mfire\u001b[0m \u001b[0;34m=\u001b[0m \u001b[0mfire\u001b[0m\u001b[0;34m.\u001b[0m\u001b[0mselect\u001b[0m\u001b[0;34m(\u001b[0m\u001b[0mpl\u001b[0m\u001b[0;34m.\u001b[0m\u001b[0mall\u001b[0m\u001b[0;34m(\u001b[0m\u001b[0;34m)\u001b[0m\u001b[0;34m,\u001b[0m \u001b[0mpl\u001b[0m\u001b[0;34m.\u001b[0m\u001b[0mcol\u001b[0m\u001b[0;34m(\u001b[0m\u001b[0mcol\u001b[0m\u001b[0;34m)\u001b[0m\u001b[0;34m.\u001b[0m\u001b[0mapply\u001b[0m\u001b[0;34m(\u001b[0m\u001b[0mencode_onehot_udf\u001b[0m\u001b[0;34m,\u001b[0m \u001b[0mname\u001b[0m\u001b[0;34m=\u001b[0m\u001b[0;34mf\"{col}_encoded\"\u001b[0m\u001b[0;34m)\u001b[0m\u001b[0;34m)\u001b[0m\u001b[0;34m\u001b[0m\u001b[0;34m\u001b[0m\u001b[0m\n\u001b[0m\u001b[1;32m     12\u001b[0m \u001b[0mprint\u001b[0m\u001b[0;34m(\u001b[0m\u001b[0mencoded_df\u001b[0m\u001b[0;34m)\u001b[0m\u001b[0;34m\u001b[0m\u001b[0;34m\u001b[0m\u001b[0m\n",
            "\u001b[0;32m/usr/local/lib/python3.10/dist-packages/polars/utils/deprecation.py\u001b[0m in \u001b[0;36mwrapper\u001b[0;34m(*args, **kwargs)\u001b[0m\n\u001b[1;32m     59\u001b[0m                 \u001b[0mversion\u001b[0m\u001b[0;34m=\u001b[0m\u001b[0mversion\u001b[0m\u001b[0;34m,\u001b[0m\u001b[0;34m\u001b[0m\u001b[0;34m\u001b[0m\u001b[0m\n\u001b[1;32m     60\u001b[0m             )\n\u001b[0;32m---> 61\u001b[0;31m             \u001b[0;32mreturn\u001b[0m \u001b[0mfunction\u001b[0m\u001b[0;34m(\u001b[0m\u001b[0;34m*\u001b[0m\u001b[0margs\u001b[0m\u001b[0;34m,\u001b[0m \u001b[0;34m**\u001b[0m\u001b[0mkwargs\u001b[0m\u001b[0;34m)\u001b[0m\u001b[0;34m\u001b[0m\u001b[0;34m\u001b[0m\u001b[0m\n\u001b[0m\u001b[1;32m     62\u001b[0m \u001b[0;34m\u001b[0m\u001b[0m\n\u001b[1;32m     63\u001b[0m         \u001b[0mwrapper\u001b[0m\u001b[0;34m.\u001b[0m\u001b[0m__signature__\u001b[0m \u001b[0;34m=\u001b[0m \u001b[0minspect\u001b[0m\u001b[0;34m.\u001b[0m\u001b[0msignature\u001b[0m\u001b[0;34m(\u001b[0m\u001b[0mfunction\u001b[0m\u001b[0;34m)\u001b[0m  \u001b[0;31m# type: ignore[attr-defined]\u001b[0m\u001b[0;34m\u001b[0m\u001b[0;34m\u001b[0m\u001b[0m\n",
            "\u001b[0;31mTypeError\u001b[0m: Expr.apply() got an unexpected keyword argument 'name'"
          ]
        }
      ],
      "source": [
        "## Using NumPy's one_hot function\n",
        "cat_cols = ['agency_loc', 'stage', 'cause','response']\n",
        "for col in cat_cols:\n",
        "    category_data = fire[col].to_numpy()\n",
        "    category_unique = np.unique(category_data)\n",
        "    encoded_categories = pl.Series(np.eye(len(category_unique), dtype=np.uint8))\n",
        "\n",
        "    def encode_onehot_udf(series):\n",
        "        return encoded_categories.iloc[np.searchsorted(category_unique, series)]\n",
        "\n",
        "    fire = fire.select(pl.all(), pl.col(col).apply(encode_onehot_udf, name=f\"{col}_encoded\"))\n",
        "print(encoded_onehot_df)"
      ]
    },
    {
      "cell_type": "code",
      "source": [
        "# Categorical boolean mask\n",
        "categorical_feature_mask = X.dtypes==object\n",
        "# filter categorical columns using mask and turn it into a list\n",
        "categorical_columns = X.columns[categorical_feature_mask].tolist()"
      ],
      "metadata": {
        "colab": {
          "base_uri": "https://localhost:8080/",
          "height": 236
        },
        "id": "7WgQfcAXuu5j",
        "outputId": "f8b1eb99-d1fe-4a4a-e046-2bbae79c36ae"
      },
      "id": "7WgQfcAXuu5j",
      "execution_count": null,
      "outputs": [
        {
          "output_type": "error",
          "ename": "NameError",
          "evalue": "name 'X' is not defined",
          "traceback": [
            "\u001b[0;31m---------------------------------------------------------------------------\u001b[0m",
            "\u001b[0;31mNameError\u001b[0m                                 Traceback (most recent call last)",
            "\u001b[0;32m<ipython-input-21-816cf91769a8>\u001b[0m in \u001b[0;36m<cell line: 2>\u001b[0;34m()\u001b[0m\n\u001b[1;32m      1\u001b[0m \u001b[0;31m# Categorical boolean mask\u001b[0m\u001b[0;34m\u001b[0m\u001b[0;34m\u001b[0m\u001b[0m\n\u001b[0;32m----> 2\u001b[0;31m \u001b[0mcategorical_feature_mask\u001b[0m \u001b[0;34m=\u001b[0m \u001b[0mX\u001b[0m\u001b[0;34m.\u001b[0m\u001b[0mdtypes\u001b[0m\u001b[0;34m==\u001b[0m\u001b[0mobject\u001b[0m\u001b[0;34m\u001b[0m\u001b[0;34m\u001b[0m\u001b[0m\n\u001b[0m\u001b[1;32m      3\u001b[0m \u001b[0;31m# filter categorical columns using mask and turn it into a list\u001b[0m\u001b[0;34m\u001b[0m\u001b[0;34m\u001b[0m\u001b[0m\n\u001b[1;32m      4\u001b[0m \u001b[0mcategorical_columns\u001b[0m \u001b[0;34m=\u001b[0m \u001b[0mX\u001b[0m\u001b[0;34m.\u001b[0m\u001b[0mcolumns\u001b[0m\u001b[0;34m[\u001b[0m\u001b[0mcategorical_feature_mask\u001b[0m\u001b[0;34m]\u001b[0m\u001b[0;34m.\u001b[0m\u001b[0mtolist\u001b[0m\u001b[0;34m(\u001b[0m\u001b[0;34m)\u001b[0m\u001b[0;34m\u001b[0m\u001b[0;34m\u001b[0m\u001b[0m\n",
            "\u001b[0;31mNameError\u001b[0m: name 'X' is not defined"
          ]
        }
      ]
    },
    {
      "cell_type": "code",
      "source": [
        "# import OneHotEncoder\n",
        "from sklearn.preprocessing import OneHotEncoder\n",
        "# instantiate OneHotEncoder\n",
        "ohe = OneHotEncoder(categorical_features = categorical_feature_mask, sparse=False )\n",
        "# categorical_features = boolean mask for categorical columns\n",
        "# sparse = False output an array not sparse matrix"
      ],
      "metadata": {
        "colab": {
          "base_uri": "https://localhost:8080/",
          "height": 254
        },
        "id": "yJztJQfAuYCT",
        "outputId": "a8016068-ed9f-4f03-a60d-a3e672d338d5"
      },
      "id": "yJztJQfAuYCT",
      "execution_count": null,
      "outputs": [
        {
          "output_type": "error",
          "ename": "NameError",
          "evalue": "name 'categorical_feature_mask' is not defined",
          "traceback": [
            "\u001b[0;31m---------------------------------------------------------------------------\u001b[0m",
            "\u001b[0;31mNameError\u001b[0m                                 Traceback (most recent call last)",
            "\u001b[0;32m<ipython-input-18-7808fadf39de>\u001b[0m in \u001b[0;36m<cell line: 4>\u001b[0;34m()\u001b[0m\n\u001b[1;32m      2\u001b[0m \u001b[0;32mfrom\u001b[0m \u001b[0msklearn\u001b[0m\u001b[0;34m.\u001b[0m\u001b[0mpreprocessing\u001b[0m \u001b[0;32mimport\u001b[0m \u001b[0mOneHotEncoder\u001b[0m\u001b[0;34m\u001b[0m\u001b[0;34m\u001b[0m\u001b[0m\n\u001b[1;32m      3\u001b[0m \u001b[0;31m# instantiate OneHotEncoder\u001b[0m\u001b[0;34m\u001b[0m\u001b[0;34m\u001b[0m\u001b[0m\n\u001b[0;32m----> 4\u001b[0;31m \u001b[0mohe\u001b[0m \u001b[0;34m=\u001b[0m \u001b[0mOneHotEncoder\u001b[0m\u001b[0;34m(\u001b[0m\u001b[0mcategorical_features\u001b[0m \u001b[0;34m=\u001b[0m \u001b[0mcategorical_feature_mask\u001b[0m\u001b[0;34m,\u001b[0m \u001b[0msparse\u001b[0m\u001b[0;34m=\u001b[0m\u001b[0;32mFalse\u001b[0m \u001b[0;34m)\u001b[0m\u001b[0;34m\u001b[0m\u001b[0;34m\u001b[0m\u001b[0m\n\u001b[0m\u001b[1;32m      5\u001b[0m \u001b[0;31m# categorical_features = boolean mask for categorical columns\u001b[0m\u001b[0;34m\u001b[0m\u001b[0;34m\u001b[0m\u001b[0m\n\u001b[1;32m      6\u001b[0m \u001b[0;31m# sparse = False output an array not sparse matrix\u001b[0m\u001b[0;34m\u001b[0m\u001b[0;34m\u001b[0m\u001b[0m\n",
            "\u001b[0;31mNameError\u001b[0m: name 'categorical_feature_mask' is not defined"
          ]
        }
      ]
    }
  ],
  "metadata": {
    "kernelspec": {
      "display_name": "Python 3 (ipykernel)",
      "language": "python",
      "name": "python3"
    },
    "language_info": {
      "codemirror_mode": {
        "name": "ipython",
        "version": 3
      },
      "file_extension": ".py",
      "mimetype": "text/x-python",
      "name": "python",
      "nbconvert_exporter": "python",
      "pygments_lexer": "ipython3",
      "version": "3.11.3"
    },
    "colab": {
      "provenance": [],
      "include_colab_link": true
    }
  },
  "nbformat": 4,
  "nbformat_minor": 5
}